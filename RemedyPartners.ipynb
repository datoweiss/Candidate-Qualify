{
 "cells": [
  {
   "cell_type": "markdown",
   "metadata": {},
   "source": [
    "#! \n",
    "\n",
    "####  "
   ]
  },
  {
   "cell_type": "code",
   "execution_count": null,
   "metadata": {
    "collapsed": false
   },
   "outputs": [],
   "source": [
    "import csv\n",
    "import pandas as pd\n",
    "import numpy as np\n",
    "import matplotlib.pyplot as plt\n",
    "\n",
    "\n",
    "Destination = '/Users/davidweiss/Desktop/Job.txt'\n",
    "Name = np.array([])\n",
    "\n",
    "\n",
    "with open(Destination, 'r') as f:\n",
    "    ar = pd.read_csv(f , delimiter='•',header = None)\n",
    "    \n",
    "def Candidate():\n",
    "    Hello = np.array([])\n",
    "    for row in ar.itertuples():  \n",
    "        print (row[1])     \n",
    "        try:\n",
    "            Hello = np.append(Hello, float(input('\\n Candidate Score? \\n')))\n",
    "        except ValueError:\n",
    "                Hello = np.append(Hello, 'NaN')      \n",
    "    return Hello\n",
    "new_name = ''\n",
    "ad = pd.DataFrame(index = range(len(ar)))\n",
    "while new_name != 'quit':\n",
    "    new_name = input(\"Name of Candidate, or enter 'quit': \")\n",
    "    if new_name == 'quit':\n",
    "        print('Thanks, seeya!')\n",
    "    else:\n",
    "         ad[new_name] = pd.DataFrame(Candidate(), index = ad.index)\n",
    "\n",
    "plt.figure()\n",
    "ad=ad.astype(float)\n",
    "ad.plot.box(vert=False, showmeans = True)\n",
    "plt.xlabel('Candidate Score')\n",
    "plt.ylabel('Candidate')\n",
    "plt.show()\n",
    "if input('save file? y or n:  ') == 'y':\n",
    "    ad.to_csv('Candidates')"
   ]
  },
  {
   "cell_type": "code",
   "execution_count": null,
   "metadata": {
    "collapsed": false
   },
   "outputs": [],
   "source": []
  },
  {
   "cell_type": "code",
   "execution_count": null,
   "metadata": {
    "collapsed": true
   },
   "outputs": [],
   "source": [
    "\n",
    "\n"
   ]
  }
 ],
 "metadata": {
  "kernelspec": {
   "display_name": "Python [conda root]",
   "language": "python",
   "name": "conda-root-py"
  },
  "language_info": {
   "codemirror_mode": {
    "name": "ipython",
    "version": 3
   },
   "file_extension": ".py",
   "mimetype": "text/x-python",
   "name": "python",
   "nbconvert_exporter": "python",
   "pygments_lexer": "ipython3",
   "version": "3.5.2"
  }
 },
 "nbformat": 4,
 "nbformat_minor": 1
}
